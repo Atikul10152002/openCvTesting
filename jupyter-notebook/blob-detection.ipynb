{
 "cells": [
  {
   "cell_type": "markdown",
   "metadata": {},
   "source": [
    "# Vision Processing using OpenCV\n",
    "\n",
    "<div style=\"margin: 0 auto; text-align: center;\">    \n",
    "    <img style=\"width:95px; display:inline; padding-right:25px; padding-top: 15px\" src=\"https://goo.gl/cMFyX8\" />\n",
    "    <img style=\"width:80px; display:inline; padding-right:10px\" src=\"https://goo.gl/kZQGYQ\" />\n",
    "    <img style=\"width:125px; display:inline; padding-right:10px\" src=\"https://goo.gl/myHcS3\" />\n",
    "    <img style=\"width:105px; display:inline; padding-right:20px\" src=\"https://goo.gl/6nmWsW\" />\n",
    "</div>\n",
    "\n",
    "---\n",
    "\n",
    "#### For the demostration we'll need the following python module:\n",
    "1. Opencv\n",
    "2. Numpy"
   ]
  },
  {
   "cell_type": "code",
   "execution_count": 1,
   "metadata": {},
   "outputs": [],
   "source": [
    "import cv2\n",
    "# import time\n",
    "import hsv_val\n",
    "import numpy as np"
   ]
  },
  {
   "cell_type": "code",
   "execution_count": 2,
   "metadata": {},
   "outputs": [],
   "source": [
    "# Only for Jupyter-Notebook being stupid\n",
    "from IPython.display import display_html\n",
    "def restartkernel(): display_html(\"<script>Jupyter.notebook.kernel.restart()</script>\",raw=True)"
   ]
  },
  {
   "cell_type": "markdown",
   "metadata": {},
   "source": [
    "#### The `hsv_val` module just stores the saved slider values"
   ]
  },
  {
   "cell_type": "code",
   "execution_count": 3,
   "metadata": {},
   "outputs": [
    {
     "name": "stdout",
     "output_type": "stream",
     "text": [
      "opencv version : 3.4.3\n",
      "numpy version  : 1.15.4\n",
      "-----------------------\n",
      "hueLow         : 36\n",
      "hueHigh        : 57\n",
      "saturationLow  : 53\n",
      "saturationHigh : 218\n",
      "valueLow       : 195\n",
      "valueHigh      : 255\n"
     ]
    },
    {
     "ename": "AttributeError",
     "evalue": "module 'hsv_val' has no attribute 'blur'",
     "output_type": "error",
     "traceback": [
      "\u001b[0;31m---------------------------------------------------------------------------\u001b[0m",
      "\u001b[0;31mAttributeError\u001b[0m                            Traceback (most recent call last)",
      "\u001b[0;32m<ipython-input-3-2828a5417890>\u001b[0m in \u001b[0;36m<module>\u001b[0;34m\u001b[0m\n\u001b[1;32m      8\u001b[0m \u001b[0mprint\u001b[0m\u001b[0;34m(\u001b[0m\u001b[0;34m\"valueLow       :\"\u001b[0m\u001b[0;34m,\u001b[0m \u001b[0mhsv_val\u001b[0m\u001b[0;34m.\u001b[0m\u001b[0mvalueLow\u001b[0m\u001b[0;34m)\u001b[0m\u001b[0;34m\u001b[0m\u001b[0;34m\u001b[0m\u001b[0m\n\u001b[1;32m      9\u001b[0m \u001b[0mprint\u001b[0m\u001b[0;34m(\u001b[0m\u001b[0;34m\"valueHigh      :\"\u001b[0m\u001b[0;34m,\u001b[0m \u001b[0mhsv_val\u001b[0m\u001b[0;34m.\u001b[0m\u001b[0mvalueHigh\u001b[0m\u001b[0;34m)\u001b[0m\u001b[0;34m\u001b[0m\u001b[0;34m\u001b[0m\u001b[0m\n\u001b[0;32m---> 10\u001b[0;31m \u001b[0mprint\u001b[0m\u001b[0;34m(\u001b[0m\u001b[0;34m\"blur           :\"\u001b[0m\u001b[0;34m,\u001b[0m \u001b[0mhsv_val\u001b[0m\u001b[0;34m.\u001b[0m\u001b[0mblur\u001b[0m\u001b[0;34m)\u001b[0m\u001b[0;34m\u001b[0m\u001b[0;34m\u001b[0m\u001b[0m\n\u001b[0m",
      "\u001b[0;31mAttributeError\u001b[0m: module 'hsv_val' has no attribute 'blur'"
     ]
    }
   ],
   "source": [
    "print(\"opencv version :\",cv2.__version__)\n",
    "print(\"numpy version  :\",np.__version__)\n",
    "print(\"-\"*23)\n",
    "print(\"hueLow         :\", hsv_val.hueLow)\n",
    "print(\"hueHigh        :\", hsv_val.hueHigh)\n",
    "print(\"saturationLow  :\", hsv_val.saturationLow)\n",
    "print(\"saturationHigh :\", hsv_val.saturationHigh)\n",
    "print(\"valueLow       :\", hsv_val.valueLow)\n",
    "print(\"valueHigh      :\", hsv_val.valueHigh)\n",
    "print(\"blur           :\", hsv_val.blur)"
   ]
  },
  {
   "cell_type": "markdown",
   "metadata": {},
   "source": [
    "#### Setting the `sliderEnabled` to <font style=\"color:purple\">True</font> shows all the siders for mask adjustment"
   ]
  },
  {
   "cell_type": "code",
   "execution_count": null,
   "metadata": {},
   "outputs": [],
   "source": [
    "sliderEnabled = 0"
   ]
  },
  {
   "cell_type": "markdown",
   "metadata": {},
   "source": [
    "#### default color slider positions:"
   ]
  },
  {
   "cell_type": "code",
   "execution_count": null,
   "metadata": {},
   "outputs": [],
   "source": [
    "hueLowStart = 0\n",
    "hueHighStart = 255\n",
    "saturationLowStart = 0\n",
    "saturationHighStart = 255\n",
    "valueLowStart = 0\n",
    "valueHighStart = 255\n",
    "hsvMaxValue = 255"
   ]
  },
  {
   "cell_type": "markdown",
   "metadata": {},
   "source": [
    "#### Reduced frame rate to avoid lag issues of less powerful computers\n",
    "Comment the first line and uncomment the second line if your computer is **powerful** enough"
   ]
  },
  {
   "cell_type": "code",
   "execution_count": null,
   "metadata": {},
   "outputs": [],
   "source": [
    "# framesPerSecond = 2 if sliderEnabled else 1\n",
    "framesPerSecond = 60"
   ]
  },
  {
   "cell_type": "markdown",
   "metadata": {},
   "source": [
    "#### Slider names"
   ]
  },
  {
   "cell_type": "code",
   "execution_count": null,
   "metadata": {},
   "outputs": [],
   "source": [
    "hh = 'Hue High'\n",
    "hl = 'Hue Low'\n",
    "sh = 'Saturation High'\n",
    "sl = 'Saturation Low'\n",
    "vh = 'Value High'\n",
    "vl = 'Value Low'\n",
    "br = 'Blur'\n",
    "wnd = 'Colorbars'\n",
    "kernelSize = 'kernel_size'\n",
    "kernelDivision = 'kernel_division'"
   ]
  },
  {
   "cell_type": "markdown",
   "metadata": {},
   "source": [
    "#### Window for sliders\n",
    "```python\n",
    "cv2.namedWindow(winname[, flags]) -> None\n",
    "```"
   ]
  },
  {
   "cell_type": "code",
   "execution_count": null,
   "metadata": {},
   "outputs": [],
   "source": [
    "cv2.namedWindow(wnd, cv2.WINDOW_AUTOSIZE)"
   ]
  },
  {
   "cell_type": "markdown",
   "metadata": {},
   "source": [
    "#### Empty function called by trackbars\n",
    "```python\n",
    "nothing(*a, **k) -> None\n",
    "```"
   ]
  },
  {
   "cell_type": "code",
   "execution_count": null,
   "metadata": {},
   "outputs": [],
   "source": [
    "def nothing(*a, **k):\n",
    "    pass"
   ]
  },
  {
   "cell_type": "markdown",
   "metadata": {},
   "source": [
    "#### Create the sliders\n",
    "```python\n",
    "cv2.createTrackbar(barname, window name, min , max, argument) -> slider\n",
    "```"
   ]
  },
  {
   "cell_type": "code",
   "execution_count": null,
   "metadata": {},
   "outputs": [],
   "source": [
    "if sliderEnabled:\n",
    "    cv2.createTrackbar(hl, wnd, hueLowStart, hsvMaxValue, nothing)\n",
    "    cv2.createTrackbar(hh, wnd, hueHighStart, hsvMaxValue, nothing)\n",
    "    cv2.createTrackbar(sl, wnd, saturationLowStart, hsvMaxValue, nothing)\n",
    "    cv2.createTrackbar(sh, wnd, saturationHighStart, hsvMaxValue, nothing)\n",
    "    cv2.createTrackbar(vl, wnd, valueLowStart, hsvMaxValue, nothing)\n",
    "    cv2.createTrackbar(vh, wnd, valueHighStart, hsvMaxValue, nothing)\n",
    "    cv2.createTrackbar(br, wnd, 0, 100, nothing)"
   ]
  },
  {
   "cell_type": "markdown",
   "metadata": {},
   "source": [
    "#### Testing with different values to denoise"
   ]
  },
  {
   "cell_type": "code",
   "execution_count": null,
   "metadata": {},
   "outputs": [],
   "source": [
    "# cv2.createTrackbar(kernelSize, wnd, 1, 10, nothing)\n",
    "# cv2.createTrackbar(kernelDivision, wnd, 1, 25, nothing)"
   ]
  },
  {
   "cell_type": "markdown",
   "metadata": {},
   "source": [
    "#### Writes calibrated hsv value of target to text file\n",
    "``` python\n",
    "writeHSV() -> None\n",
    "```"
   ]
  },
  {
   "cell_type": "code",
   "execution_count": null,
   "metadata": {},
   "outputs": [],
   "source": [
    "def writeHSV(hueLow, hueHigh, saturationLow, saturationHigh, valueLow, valueHigh, blur):\n",
    "    # * Appending the final HSV values to the `file`\n",
    "    with open('hsv_val.py', 'a') as file:\n",
    "        file.write('#'*10 + '\\n')\n",
    "        file.write('hueLow = ' + str(hueLow) + '\\n')\n",
    "        file.write('hueHigh = ' + str(hueHigh) + '\\n')\n",
    "        file.write('saturationLow = ' + str(saturationLow) + '\\n')\n",
    "        file.write('saturationHigh = ' + str(saturationHigh) + '\\n')\n",
    "        file.write('valueLow = ' + str(valueLow) + '\\n')\n",
    "        file.write('valueHigh = ' + str(valueHigh) + '\\n')\n",
    "        file.write('blur = ' + str(blur) + '\\n')\n",
    "        file.close()"
   ]
  },
  {
   "cell_type": "markdown",
   "metadata": {},
   "source": [
    "#### Returns the slider values\n",
    "```python\n",
    "getSliderValues() -> None\n",
    "```"
   ]
  },
  {
   "cell_type": "code",
   "execution_count": null,
   "metadata": {},
   "outputs": [],
   "source": [
    "def getSliderValues():\n",
    "    # * read trackbar positions for each trackbar. The function returns the position of the specified trackbar\n",
    "    # ? getTrackbarPos(trackbarname, winname) -> retval\n",
    "    hueLow = cv2.getTrackbarPos(hl, wnd) if sliderEnabled else hsv_val.hueLow\n",
    "    hueHigh = cv2.getTrackbarPos(hh, wnd) if sliderEnabled else hsv_val.hueHigh\n",
    "    saturationLow = cv2.getTrackbarPos(sl, wnd) if sliderEnabled else hsv_val.saturationLow\n",
    "    saturationHigh = cv2.getTrackbarPos(sh, wnd) if sliderEnabled else hsv_val.saturationHigh\n",
    "    valueLow = cv2.getTrackbarPos(vl, wnd) if sliderEnabled else hsv_val.valueLow\n",
    "    valueHigh = cv2.getTrackbarPos(vh, wnd) if sliderEnabled else hsv_val.valueHigh\n",
    "    blur = (cv2.getTrackbarPos(br, wnd) if cv2.getTrackbarPos(br, wnd) % 2 != 0 else \n",
    "            cv2.getTrackbarPos(br, wnd) + 1) if sliderEnabled else hsv_val.blur\n",
    "\n",
    "    return hueLow, hueHigh, saturationLow, saturationHigh, valueLow, valueHigh, blur"
   ]
  },
  {
   "cell_type": "markdown",
   "metadata": {},
   "source": [
    "#### Locates object and its centroid\n",
    "```python\n",
    "findPart(contours) -> None\n",
    "```"
   ]
  },
  {
   "cell_type": "code",
   "execution_count": null,
   "metadata": {},
   "outputs": [],
   "source": [
    "def findPart(frame, mask, contours):\n",
    "    '''\n",
    "    # quick and janky but your milege may vary\n",
    "    (x, y), radius = cv2.minEnclosingCircle(contour)\n",
    "    center = (int(x), int(y))\n",
    "    radius = int(radius)\n",
    "    cv2.circle(frame, center, radius, (0, 255, 0), 2)\n",
    "    '''\n",
    "    if len(contours) != 0:\n",
    "        contour = max(contours, key=cv2.contourArea)\n",
    "        # ? contourArea(contour[, oriented]) -> retval\n",
    "        # * The function computes a contour area. \n",
    "        # * Similarly to moments , the area is computed using the Green formula. \n",
    "        # * Also, the function will most certainly give a wrong results for contours with self-intersections\n",
    "        A = cv2.contourArea(contour)\n",
    "\n",
    "        # ? moments(array[, binaryImage]) -> retval\n",
    "        # * The function computes moments, up to the 3rd order, of a vector shape or a rasterized shape. \n",
    "        # * The results are returned in the structure cv: : Moments.\n",
    "        # * Image Moment is a particular weighted average of image pixel intensities\n",
    "        # * calculates moments of binary image\n",
    "        M = cv2.moments(contour)\n",
    "        # * Radius = sqrt(Area * Pi)\n",
    "        Radius = int((A/3.14)**(.5))\n",
    "        # ? change this value if target is smaller/larger\n",
    "        if A > 1000:\n",
    "\n",
    "            # ? drawContours(img, cnts, contourIdx, color, thickness, lineType, hierarchy, maxLvl, offset -> image\n",
    "            cv2.drawContours(mask, [contour], -1, (0, 255, 0), 3)\n",
    "            # * uses the contour's 'moment' to find centroid\n",
    "            if M['m00'] != 0:\n",
    "                # * calculate x,y coordinate of center\n",
    "                circleX = int(M['m10']/M['m00'])\n",
    "                circleY = int(M['m01']/M['m00'])\n",
    "                center = (circleX, circleY)\n",
    "            else:\n",
    "                center = (0, 0)\n",
    "\n",
    "            # ? circle(img, center, radius, color[, thickness[, lineType[, shift]]]) -> img\n",
    "            # * The function cv::circle draws a simple or filled circle with a given center and radius\n",
    "\n",
    "            # * Centroid center circle\n",
    "            cv2.circle(frame, center,\n",
    "                        10, (159, 159, 255), -1)\n",
    "            # * Centroid surrounding circle\n",
    "            cv2.circle(frame, center,\n",
    "                        Radius, (255, 0, 0), 5)\n",
    "\n",
    "            # print(\"Object is at \", *center)"
   ]
  },
  {
   "cell_type": "markdown",
   "metadata": {},
   "source": [
    "---\n",
    "#### analyzes video feed and finds contours\n",
    "```python\n",
    "getContours(frame) -> contours\n",
    "```"
   ]
  },
  {
   "cell_type": "code",
   "execution_count": null,
   "metadata": {},
   "outputs": [],
   "source": [
    "def getContours(mask):\n",
    "    # ? cvtColor(src, code[, dst[, dstCn]]) -> dst\n",
    "    # * use greyscale (single channel) to remove blobs and draw contours\n",
    "    # * The function converts an input image from one color space to another\n",
    "    grey = cv2.cvtColor(mask, cv2.COLOR_BGR2GRAY)\n",
    "    # blob removal\n",
    "\n",
    "    #* biggern kernel sizel will lead to more areas being ignored\n",
    "    morphkernel = np.ones((1, 1), np.uint8)\n",
    "\n",
    "    # dilatekernel = np.ones((5, 5), np.uint8)\n",
    "    # kernel = np.ones((\n",
    "    #     cv2.getTrackbarPos(kernelSize, wnd),\n",
    "    #     cv2.getTrackbarPos(kernelSize, wnd)),\n",
    "    #     np.uint8)/cv2.getTrackbarPos(kernelDivision, wnd)\n",
    "\n",
    "    # eroded = cv2.erode(grey, kernel, iterations=1)\n",
    "    # dialated = cv2.dilate(grey, kernel, iterations=1)\n",
    "\n",
    "    # ? morphologyEx(src, op, kernel[, dst[, anchor[, iterations[, borderType[, borderValue]]]]]) -> dst\n",
    "\n",
    "    morphed = cv2.morphologyEx(grey, cv2.MORPH_CLOSE, morphkernel)\n",
    "    morphed = cv2.morphologyEx(morphed, cv2.MORPH_OPEN, morphkernel)\n",
    "\n",
    "    # ? findContours(image, mode, method[, contours[, hierarchy[, offset]]]) -> image, contours, hierarchy\n",
    "    # * The function retrieves contours from the binary image using the algorithm passed as an argument\n",
    "    contours = cv2.findContours(morphed, cv2.RETR_TREE, cv2.CHAIN_APPROX_SIMPLE)[-2]\n",
    "    \n",
    "    return contours"
   ]
  },
  {
   "cell_type": "markdown",
   "metadata": {},
   "source": [
    "---\n",
    "#### applies mask using hsv trackbar values\n",
    "```python\n",
    "getImage(frame) -> mask\n",
    "```"
   ]
  },
  {
   "cell_type": "code",
   "execution_count": null,
   "metadata": {},
   "outputs": [],
   "source": [
    "def getMask(frame, hueLow, hueHigh, saturationLow, saturationHigh, valueLow, valueHigh, blur):\n",
    "    # ? GaussianBlur(src, ksize, sigmaX[, dst[, sigmaY[, borderType]]]) -> dst\n",
    "    frame = cv2.GaussianBlur(frame, (blur, blur), 0)\n",
    "\n",
    "    # ? cvtColor(src, code[, dst[, dstCn]]) -> dst\n",
    "    # * The function converts an input image from one color space to another\n",
    "    hsv = cv2.cvtColor(frame, cv2.COLOR_BGR2HSV)\n",
    "\n",
    "    # * define range of mask\n",
    "    HSV_LOW = np.array([hueLow, saturationLow, valueLow])\n",
    "    HSV_HIGH = np.array([hueHigh, saturationHigh, valueHigh])\n",
    "\n",
    "    # * create a mask with the hsv range\n",
    "    mask = cv2.inRange(hsv, HSV_LOW, HSV_HIGH)\n",
    "    # * cancel out everyting that doesn't belong to the mask\n",
    "    # * computes bitwise conjunction of the two arrays (dst = src1 & src2)\n",
    "    mask = cv2.bitwise_and(frame, frame, mask=mask)\n",
    "    return mask"
   ]
  },
  {
   "cell_type": "markdown",
   "metadata": {},
   "source": [
    "\n",
    "---\n",
    "### Run the entire program \n"
   ]
  },
  {
   "cell_type": "markdown",
   "metadata": {},
   "source": [
    "#### Captures the videofeed from camera"
   ]
  },
  {
   "cell_type": "code",
   "execution_count": null,
   "metadata": {},
   "outputs": [],
   "source": [
    "capture = cv2.VideoCapture(0) #* Try (0) or (1)\n",
    "# time.sleep(2)\n",
    "print(\"Getting feed from camera: \", capture.isOpened())"
   ]
  },
  {
   "cell_type": "markdown",
   "metadata": {},
   "source": [
    "##### Iterate over each frame from the videofeed"
   ]
  },
  {
   "cell_type": "code",
   "execution_count": null,
   "metadata": {},
   "outputs": [],
   "source": [
    "# * after 100 tries the program quits\n",
    "errors = 0\n",
    "while(capture.isOpened()):\n",
    "    ret, frame = capture.read()\n",
    "    if ret == True:\n",
    "        frame = cv2.flip(frame, 180)\n",
    "        # * resizing the frame to better fit the screen\n",
    "        frame = cv2.resize(frame, (int(frame.shape[1]/2), int(frame.shape[0]/2)))\n",
    "\n",
    "\n",
    "        # * returns hueLow, hueHigh, saturationLow, saturationHigh, valueLow, valueHigh, blur\n",
    "        sliderValues = getSliderValues()\n",
    "\n",
    "        #* Returns the masked image\n",
    "        mask = getMask(\n",
    "            frame, *sliderValues)\n",
    "\n",
    "        #* Returns the contour of the masked image\n",
    "        contours = getContours(mask)\n",
    "\n",
    "        #* draws circle on the contour\n",
    "        findPart(frame, mask, contours)\n",
    "\n",
    "\n",
    "        # ? imshow(winname, mat) -> None\n",
    "        # * showing contour and mask\n",
    "        cv2.imshow('mask', mask)\n",
    "        cv2.imshow(wnd, frame)\n",
    "\n",
    "        # * defining frames per second\n",
    "        key = cv2.waitKey(1000//framesPerSecond)\n",
    "        \n",
    "        # * save the slider values on the keypress of \"s\"\n",
    "        if key == ord('s') and sliderEnabled:\n",
    "            writeHSV(*sliderValues)\n",
    "            \n",
    "        # * quit the program s on the keypress of \"q\"\n",
    "        if key == ord('q'):\n",
    "            capture.release()\n",
    "            # Restart kernel is only for Jupyter-Notebook\n",
    "            restartkernel()\n",
    "            break\n",
    "    else:\n",
    "        errors += 1\n",
    "        if errors > 100:\n",
    "            # Restart kernel is only for Jupyter-Notebook\n",
    "            restartkernel()\n",
    "            break"
   ]
  },
  {
   "cell_type": "markdown",
   "metadata": {},
   "source": [
    "#### Release everything at the end of the operation"
   ]
  },
  {
   "cell_type": "code",
   "execution_count": null,
   "metadata": {
    "scrolled": false
   },
   "outputs": [],
   "source": [
    "capture.release()\n",
    "cv2.destroyAllWindows()"
   ]
  }
 ],
 "metadata": {
  "kernelspec": {
   "display_name": "Python 3",
   "language": "python",
   "name": "python3"
  },
  "language_info": {
   "codemirror_mode": {
    "name": "ipython",
    "version": 3
   },
   "file_extension": ".py",
   "mimetype": "text/x-python",
   "name": "python",
   "nbconvert_exporter": "python",
   "pygments_lexer": "ipython3",
   "version": "3.7.1"
  }
 },
 "nbformat": 4,
 "nbformat_minor": 2
}
